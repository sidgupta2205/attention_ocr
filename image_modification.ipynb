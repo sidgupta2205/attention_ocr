{
 "cells": [
  {
   "cell_type": "code",
   "execution_count": 1,
   "id": "11d718d1",
   "metadata": {},
   "outputs": [],
   "source": [
    "import cv2\n",
    "import matplotlib.pyplot as plt"
   ]
  },
  {
   "cell_type": "code",
   "execution_count": 2,
   "id": "8e7b55e2",
   "metadata": {},
   "outputs": [
    {
     "name": "stdout",
     "output_type": "stream",
     "text": [
      "Image 9 done\n"
     ]
    }
   ],
   "source": [
    "for i in range(0,10):\n",
    "    l = []\n",
    "    for j in range(1,5):   \n",
    "        string = \"{}{}.jpg\".format(i,j)\n",
    "#         print(string)\n",
    "        img = cv2.imread(string)\n",
    "#         print(img)\n",
    "        img = cv2.resize(img, (150,150))\n",
    "#         print(img.shape)\n",
    "        l.append(img)\n",
    "    f_img = cv2.hconcat([l[0],l[1],l[2],l[3]])\n",
    "    cv2.imwrite(\"images/output/fsns_train_0{}.png\".format(i),f_img)\n",
    "    print(\"Image {} done\".format(i))\n"
   ]
  },
  {
   "cell_type": "code",
   "execution_count": 20,
   "id": "a0336b18",
   "metadata": {},
   "outputs": [
    {
     "name": "stdout",
     "output_type": "stream",
     "text": [
      "(150, 600, 3)\n",
      "(150, 600, 3)\n",
      "(150, 600, 3)\n",
      "(150, 600, 3)\n",
      "(150, 600, 3)\n"
     ]
    }
   ],
   "source": [
    "for i in range(5):\n",
    "    img = cv2.imread(\"images/output/fsns_train_0{}.png\".format(i))\n",
    "    print(img.shape)"
   ]
  },
  {
   "cell_type": "code",
   "execution_count": null,
   "id": "be1cf999",
   "metadata": {},
   "outputs": [],
   "source": []
  }
 ],
 "metadata": {
  "kernelspec": {
   "display_name": "Python 3 (ipykernel)",
   "language": "python",
   "name": "python3"
  },
  "language_info": {
   "codemirror_mode": {
    "name": "ipython",
    "version": 3
   },
   "file_extension": ".py",
   "mimetype": "text/x-python",
   "name": "python",
   "nbconvert_exporter": "python",
   "pygments_lexer": "ipython3",
   "version": "3.8.10"
  }
 },
 "nbformat": 4,
 "nbformat_minor": 5
}
